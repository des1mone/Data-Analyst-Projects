{
 "cells": [
  {
   "cell_type": "markdown",
   "metadata": {},
   "source": [
    "# Titanic Project"
   ]
  },
  {
   "cell_type": "markdown",
   "metadata": {},
   "source": [
    "In this project, I will be looking at a partial list of names taken from the Titanic manifest. I am going to see if I can find correlations between sex, age, ticket price, and class; and survivorship on the Titanic. I will also look to find any other interesting relationships and conclusions that can be drawn from this information."
   ]
  },
  {
   "cell_type": "markdown",
   "metadata": {},
   "source": [
    "***"
   ]
  },
  {
   "cell_type": "code",
   "execution_count": 77,
   "metadata": {},
   "outputs": [],
   "source": [
    "import unicodecsv\n",
    "import pandas as pd\n",
    "import numpy as np\n",
    "from datetime import datetime as dt\n",
    "import matplotlib\n",
    "import matplotlib.pyplot as plt\n",
    "%matplotlib inline\n",
    "import seaborn as sns\n",
    "\n",
    "\n",
    "def read_csv(filename):\n",
    "    with open(filename, 'rb') as f:\n",
    "        reader = unicodecsv.DictReader(f)\n",
    "        return list(reader)\n",
    "\n",
    "titanic_df = pd.read_csv('titanic_data.csv')"
   ]
  },
  {
   "cell_type": "code",
   "execution_count": 78,
   "metadata": {
    "scrolled": false
   },
   "outputs": [
    {
     "data": {
      "text/html": [
       "<div>\n",
       "<table border=\"1\" class=\"dataframe\">\n",
       "  <thead>\n",
       "    <tr style=\"text-align: right;\">\n",
       "      <th></th>\n",
       "      <th>PassengerId</th>\n",
       "      <th>Survived</th>\n",
       "      <th>Pclass</th>\n",
       "      <th>Age</th>\n",
       "      <th>SibSp</th>\n",
       "      <th>Parch</th>\n",
       "      <th>Fare</th>\n",
       "    </tr>\n",
       "  </thead>\n",
       "  <tbody>\n",
       "    <tr>\n",
       "      <th>count</th>\n",
       "      <td>891.000000</td>\n",
       "      <td>891.000000</td>\n",
       "      <td>891.000000</td>\n",
       "      <td>714.000000</td>\n",
       "      <td>891.000000</td>\n",
       "      <td>891.000000</td>\n",
       "      <td>891.000000</td>\n",
       "    </tr>\n",
       "    <tr>\n",
       "      <th>mean</th>\n",
       "      <td>446.000000</td>\n",
       "      <td>0.383838</td>\n",
       "      <td>2.308642</td>\n",
       "      <td>29.699118</td>\n",
       "      <td>0.523008</td>\n",
       "      <td>0.381594</td>\n",
       "      <td>32.204208</td>\n",
       "    </tr>\n",
       "    <tr>\n",
       "      <th>std</th>\n",
       "      <td>257.353842</td>\n",
       "      <td>0.486592</td>\n",
       "      <td>0.836071</td>\n",
       "      <td>14.526497</td>\n",
       "      <td>1.102743</td>\n",
       "      <td>0.806057</td>\n",
       "      <td>49.693429</td>\n",
       "    </tr>\n",
       "    <tr>\n",
       "      <th>min</th>\n",
       "      <td>1.000000</td>\n",
       "      <td>0.000000</td>\n",
       "      <td>1.000000</td>\n",
       "      <td>0.420000</td>\n",
       "      <td>0.000000</td>\n",
       "      <td>0.000000</td>\n",
       "      <td>0.000000</td>\n",
       "    </tr>\n",
       "    <tr>\n",
       "      <th>25%</th>\n",
       "      <td>223.500000</td>\n",
       "      <td>0.000000</td>\n",
       "      <td>2.000000</td>\n",
       "      <td>20.125000</td>\n",
       "      <td>0.000000</td>\n",
       "      <td>0.000000</td>\n",
       "      <td>7.910400</td>\n",
       "    </tr>\n",
       "    <tr>\n",
       "      <th>50%</th>\n",
       "      <td>446.000000</td>\n",
       "      <td>0.000000</td>\n",
       "      <td>3.000000</td>\n",
       "      <td>28.000000</td>\n",
       "      <td>0.000000</td>\n",
       "      <td>0.000000</td>\n",
       "      <td>14.454200</td>\n",
       "    </tr>\n",
       "    <tr>\n",
       "      <th>75%</th>\n",
       "      <td>668.500000</td>\n",
       "      <td>1.000000</td>\n",
       "      <td>3.000000</td>\n",
       "      <td>38.000000</td>\n",
       "      <td>1.000000</td>\n",
       "      <td>0.000000</td>\n",
       "      <td>31.000000</td>\n",
       "    </tr>\n",
       "    <tr>\n",
       "      <th>max</th>\n",
       "      <td>891.000000</td>\n",
       "      <td>1.000000</td>\n",
       "      <td>3.000000</td>\n",
       "      <td>80.000000</td>\n",
       "      <td>8.000000</td>\n",
       "      <td>6.000000</td>\n",
       "      <td>512.329200</td>\n",
       "    </tr>\n",
       "  </tbody>\n",
       "</table>\n",
       "</div>"
      ],
      "text/plain": [
       "       PassengerId    Survived      Pclass         Age       SibSp  \\\n",
       "count   891.000000  891.000000  891.000000  714.000000  891.000000   \n",
       "mean    446.000000    0.383838    2.308642   29.699118    0.523008   \n",
       "std     257.353842    0.486592    0.836071   14.526497    1.102743   \n",
       "min       1.000000    0.000000    1.000000    0.420000    0.000000   \n",
       "25%     223.500000    0.000000    2.000000   20.125000    0.000000   \n",
       "50%     446.000000    0.000000    3.000000   28.000000    0.000000   \n",
       "75%     668.500000    1.000000    3.000000   38.000000    1.000000   \n",
       "max     891.000000    1.000000    3.000000   80.000000    8.000000   \n",
       "\n",
       "            Parch        Fare  \n",
       "count  891.000000  891.000000  \n",
       "mean     0.381594   32.204208  \n",
       "std      0.806057   49.693429  \n",
       "min      0.000000    0.000000  \n",
       "25%      0.000000    7.910400  \n",
       "50%      0.000000   14.454200  \n",
       "75%      0.000000   31.000000  \n",
       "max      6.000000  512.329200  "
      ]
     },
     "execution_count": 78,
     "metadata": {},
     "output_type": "execute_result"
    }
   ],
   "source": [
    "titanic_df.describe()\n",
    "\n",
    "# Looking at an overveiw of the data, we can see that all of the data is there, excepot for age (177 missing) and  \n",
    "# cabin. This is troublesome. We probably don't want to delete these entries missing age data because we would lose \n",
    "# a large portion of our overall data. We can look at how age affected survival by itself, but it would be \n",
    "# difficult to mix this with othre variables. The most useful information to be gathered from this chart is \n",
    "# the mean survival rate and mean class. Information on fare price will be very useful later."
   ]
  },
  {
   "cell_type": "code",
   "execution_count": 119,
   "metadata": {},
   "outputs": [
    {
     "data": {
      "text/plain": [
       "PassengerId      0\n",
       "Survived         0\n",
       "Pclass           0\n",
       "Name             0\n",
       "Sex              0\n",
       "Age            177\n",
       "SibSp            0\n",
       "Parch            0\n",
       "Ticket           0\n",
       "Fare             0\n",
       "Cabin          687\n",
       "Embarked         2\n",
       "dtype: int64"
      ]
     },
     "execution_count": 119,
     "metadata": {},
     "output_type": "execute_result"
    }
   ],
   "source": [
    "# -- 177 missing age entries and 687 missing cabin entries.\n",
    "titanic_df.isnull().sum()"
   ]
  },
  {
   "cell_type": "code",
   "execution_count": 79,
   "metadata": {},
   "outputs": [
    {
     "data": {
      "text/plain": [
       "Pclass\n",
       "1    186\n",
       "2    173\n",
       "3    355\n",
       "dtype: int64"
      ]
     },
     "execution_count": 79,
     "metadata": {},
     "output_type": "execute_result"
    }
   ],
   "source": [
    "# In the case that we would want to look at data that does not include the passengers with missing\n",
    "# age data, I have created the list 'new_list'. This will probably be unnecessary because pandas\n",
    "# already deal with missing data well.\n",
    "\n",
    "new_list = []\n",
    "for each_name in titanic_data:\n",
    "    if each_name['Age'] == '':\n",
    "        None\n",
    "    else:\n",
    "        new_list.append(each_name)\n",
    "len (new_list)   \n",
    "\n",
    "new_df = pd.DataFrame.from_dict(new_list)   \n",
    "\n",
    "\n",
    "\n",
    "new_df.groupby(['Pclass']).size()\n"
   ]
  },
  {
   "cell_type": "markdown",
   "metadata": {},
   "source": [
    "I will first investigate the effect that sex, by itself, had on survival rate."
   ]
  },
  {
   "cell_type": "code",
   "execution_count": 80,
   "metadata": {},
   "outputs": [
    {
     "name": "stdout",
     "output_type": "stream",
     "text": [
      "Total number of males = 577\n",
      "Total number of females = 314\n",
      "Percentage of male passengers = 0.6475869809203143\n",
      "Percentage of female passengers = 0.35241301907968575\n"
     ]
    }
   ],
   "source": [
    "total_passengers = 891\n",
    "\n",
    "male_list = titanic_df[(titanic_df.Sex == 'male')]\n",
    "print (\"Total number of males =\", len(male_list))\n",
    "\n",
    "female_list = titanic_df[(titanic_df.Sex == 'female')]\n",
    "print (\"Total number of females =\", len(female_list))\n",
    "\n",
    "print (\"Percentage of male passengers =\", len(male_list)/total_passengers)\n",
    "print (\"Percentage of female passengers =\", len(female_list)/total_passengers)"
   ]
  },
  {
   "cell_type": "code",
   "execution_count": 81,
   "metadata": {},
   "outputs": [
    {
     "data": {
      "text/plain": [
       "0.3838383838383838"
      ]
     },
     "execution_count": 81,
     "metadata": {},
     "output_type": "execute_result"
    }
   ],
   "source": [
    "titanic_df['Survived'].mean()\n",
    "\n",
    "#As a reminder, we can see that about 38% of people survived."
   ]
  },
  {
   "cell_type": "code",
   "execution_count": 82,
   "metadata": {},
   "outputs": [
    {
     "data": {
      "text/html": [
       "<div>\n",
       "<table border=\"1\" class=\"dataframe\">\n",
       "  <thead>\n",
       "    <tr style=\"text-align: right;\">\n",
       "      <th></th>\n",
       "      <th># of Passengers</th>\n",
       "      <th># of Survivors</th>\n",
       "      <th>Survival Rate</th>\n",
       "    </tr>\n",
       "    <tr>\n",
       "      <th>Sex</th>\n",
       "      <th></th>\n",
       "      <th></th>\n",
       "      <th></th>\n",
       "    </tr>\n",
       "  </thead>\n",
       "  <tbody>\n",
       "    <tr>\n",
       "      <th>female</th>\n",
       "      <td>314</td>\n",
       "      <td>233</td>\n",
       "      <td>0.742038</td>\n",
       "    </tr>\n",
       "    <tr>\n",
       "      <th>male</th>\n",
       "      <td>577</td>\n",
       "      <td>109</td>\n",
       "      <td>0.188908</td>\n",
       "    </tr>\n",
       "  </tbody>\n",
       "</table>\n",
       "</div>"
      ],
      "text/plain": [
       "        # of Passengers  # of Survivors  Survival Rate\n",
       "Sex                                                   \n",
       "female              314             233       0.742038\n",
       "male                577             109       0.188908"
      ]
     },
     "execution_count": 82,
     "metadata": {},
     "output_type": "execute_result"
    }
   ],
   "source": [
    "# Here we have the number of passengers and number of survivors of each sex, and their respective survival rates.\n",
    "\n",
    "mf = titanic_df.groupby('Sex')['Survived'].agg([len, np.sum, np.mean])\n",
    "mf.rename(columns = {'len':'# of Passengers', 'sum':'# of Survivors', 'mean':'Survival Rate'})"
   ]
  },
  {
   "cell_type": "code",
   "execution_count": 106,
   "metadata": {},
   "outputs": [
    {
     "data": {
      "text/plain": [
       "<matplotlib.axes._subplots.AxesSubplot at 0x2069d483358>"
      ]
     },
     "execution_count": 106,
     "metadata": {},
     "output_type": "execute_result"
    },
    {
     "data": {
      "image/png": "[encoded data removed]",
      "text/plain": [
       "<matplotlib.figure.Figure at 0x2069d48c908>"
      ]
     },
     "metadata": {},
     "output_type": "display_data"
    }
   ],
   "source": [
    "#Chart of total count of female vs male survivors.\n",
    "\n",
    "t = titanic_df\n",
    "t = t[t.Survived == 1]\n",
    "t = t.groupby(['Sex']).size().plot(kind = 'bar')\n",
    "t.set(ylabel = '# of Survivors')\n",
    "t"
   ]
  },
  {
   "cell_type": "markdown",
   "metadata": {},
   "source": [
    "By looking at the mean in the 'survived' column in the table above, we can see that 38.4% of people survived the Titanic disaster. This equates to a total of about 342 people, which matches the calculations above. Males made up a majority of the passengers (577), but only 109 survived, giving a male survival rate of 18.9%. Women had 233 surviving out of the original 314, giving a survival rate of 74.2%. This is useful information by itself, but we should be careful to draw conclusions before further inspection. We also should assume that class was an important factor contributing to survivorship. But first, let's see what we can learn by analyzing ticket price:"
   ]
  },
  {
   "cell_type": "code",
   "execution_count": 84,
   "metadata": {
    "scrolled": true
   },
   "outputs": [
    {
     "name": "stdout",
     "output_type": "stream",
     "text": [
      "Number of people who paid more than $82 = 73\n"
     ]
    }
   ],
   "source": [
    "# We can see above that the mean fare was about $32.It might be interesting to see if the amount a passenger paid\n",
    "# had an efffect on his/her chances of survival. Let's measure one standard deviation($50) above the average.\n",
    "\n",
    "fare = titanic_df[(titanic_df.Fare > 82)]\n",
    "print (\"Number of people who paid more than $82 =\", len(fare))"
   ]
  },
  {
   "cell_type": "code",
   "execution_count": 85,
   "metadata": {
    "scrolled": true
   },
   "outputs": [
    {
     "name": "stdout",
     "output_type": "stream",
     "text": [
      "Number of people who paid more than $82 and survived = 56\n",
      "Number of people who paid more than $82 and were in 1st class = 73\n"
     ]
    }
   ],
   "source": [
    "fare_survived = titanic_df[(titanic_df.Fare > 82) & (titanic_df.Survived == 1)]\n",
    "print(\"Number of people who paid more than $82 and survived =\", len(fare_survived))\n",
    "\n",
    "fare_pclass = titanic_df[(titanic_df.Fare > 82)& (titanic_df.Pclass == 1)]\n",
    "print (\"Number of people who paid more than $82 and were in 1st class =\", len(fare_pclass))"
   ]
  },
  {
   "cell_type": "markdown",
   "metadata": {},
   "source": [
    "Initially, it looks like people who had more expensive tickets did have a better chance of surviving. But we can see that 73/73 people who paid more than 82 dollars were in first class; ticket price and class are tightly correlated. About 77 percent of people who paid more than 82 dollars survived, and as you will see below, first class had a survival rate of 63 percent."
   ]
  },
  {
   "cell_type": "code",
   "execution_count": 86,
   "metadata": {},
   "outputs": [
    {
     "name": "stdout",
     "output_type": "stream",
     "text": [
      "Number of people who paid more than $200 = 20\n",
      "Number of people who paid more than $200 and survived = 14\n"
     ]
    }
   ],
   "source": [
    "# That is interesting. But keep in mind that this distribution of prices is heavily skewed by a few very \n",
    "# expensive tickets; the median ticket price was about $14.50.\n",
    "# What about the super high end -- say greater than $200?\n",
    "\n",
    "expensive_fare = titanic_df[(titanic_df.Fare > 200)]\n",
    "print (\"Number of people who paid more than $200 =\", len(expensive_fare))\n",
    "\n",
    "expensive_fare_survived = titanic_df[(titanic_df.Fare > 200) & (titanic_df.Survived == 1)]\n",
    "print(\"Number of people who paid more than $200 and survived =\", len(expensive_fare_survived))"
   ]
  },
  {
   "cell_type": "markdown",
   "metadata": {},
   "source": [
    "Surprisingly, the group of 20 who paid more than $200 per ticket did worse, with a 70 percent survival rate."
   ]
  },
  {
   "cell_type": "code",
   "execution_count": 87,
   "metadata": {},
   "outputs": [
    {
     "name": "stdout",
     "output_type": "stream",
     "text": [
      "Number of people who paid more than $32 = 211\n",
      "Number of people who paid more than $32 and survived = 126\n",
      "Number of people who paid more than $32 and were in 1st class = 159\n"
     ]
    }
   ],
   "source": [
    "# How about looking at anyone who paid over the mean price of $32?\n",
    "\n",
    "mean_fare = titanic_df[(titanic_df.Fare > 32)]\n",
    "print (\"Number of people who paid more than $32 =\", len(mean_fare))\n",
    "\n",
    "mean_fare_survived = titanic_df[(titanic_df.Fare > 32) & (titanic_df.Survived == 1)]\n",
    "print(\"Number of people who paid more than $32 and survived =\", len(mean_fare_survived))\n",
    "\n",
    "mean_fare_pclass = titanic_df[(titanic_df.Fare > 32)& (titanic_df.Pclass == 1)]\n",
    "print (\"Number of people who paid more than $32 and were in 1st class =\", len(mean_fare_pclass))"
   ]
  },
  {
   "cell_type": "markdown",
   "metadata": {},
   "source": [
    "People that paid above $32 had a 60 percent rate of survival.  This is close to expected, as it is less than the 1st survival rate but more than 2nd class (47 percent). Let's look at cheap fare -- passengers in the bottom quartile:"
   ]
  },
  {
   "cell_type": "code",
   "execution_count": 88,
   "metadata": {},
   "outputs": [
    {
     "name": "stdout",
     "output_type": "stream",
     "text": [
      "Number of people who paid less than $8 = 241\n",
      "Number of people who paid less than $8 and survived = 52\n",
      "Number of people who paid less than $8 and were in 3rd class = 229\n",
      "Number of people who paid less than $8 and were in 1st class = 6\n",
      "Number of people who paid less than $8 and were in first class and survived = 0\n"
     ]
    }
   ],
   "source": [
    "cheap_fare = titanic_df[(titanic_df.Fare < 8)]\n",
    "print (\"Number of people who paid less than $8 =\", len(cheap_fare))\n",
    "\n",
    "cheap_fare_survived = titanic_df[(titanic_df.Fare < 8) & (titanic_df.Survived == 1)]\n",
    "print(\"Number of people who paid less than $8 and survived =\", len(cheap_fare_survived))\n",
    "\n",
    "cheap_fare_pclass3 = titanic_df[(titanic_df.Fare < 8)& (titanic_df.Pclass == 3)]\n",
    "print (\"Number of people who paid less than $8 and were in 3rd class =\", len(cheap_fare_pclass3))\n",
    "\n",
    "cheap_fare_pclass = titanic_df[(titanic_df.Fare < 8)& (titanic_df.Pclass == 1)]\n",
    "print (\"Number of people who paid less than $8 and were in 1st class =\", len(cheap_fare_pclass))\n",
    "\n",
    "cheap_fare_pclass_survived = titanic_df[(titanic_df.Fare < 8)& (titanic_df.Pclass == 1)& (titanic_df.Survived == 1)]\n",
    "print (\"Number of people who paid less than $8 and were in first class and survived =\", len(cheap_fare_pclass_survived))"
   ]
  },
  {
   "cell_type": "markdown",
   "metadata": {},
   "source": [
    "Above, we can see that about 22 percent of the people that paid in the bottom quartile for their ticket survived. 229/241 of them were in 3rd class, and the 3rd class survival rate was 24 percent. This confirms that there is a strong correlation between ticket price and class, but neither can be attributed as the sole factor in survivorship.\n",
    "Class seems the be the factor with the most weight. For example, it is plausible to imagine a scenario where someone with less status that paid a lot is rejected over someone with more importance. "
   ]
  },
  {
   "cell_type": "code",
   "execution_count": 89,
   "metadata": {},
   "outputs": [
    {
     "name": "stdout",
     "output_type": "stream",
     "text": [
      "Junior total = 83\n"
     ]
    }
   ],
   "source": [
    "#Here, I will look at the effect of age on survivorship.\n",
    "\n",
    "junior_age = 16\n",
    "junior_total = (titanic_df['Age'] < junior_age).sum()\n",
    "print (\"Junior total = {}\".format(junior_total))\n",
    "\n"
   ]
  },
  {
   "cell_type": "code",
   "execution_count": 90,
   "metadata": {
    "scrolled": false
   },
   "outputs": [
    {
     "name": "stdout",
     "output_type": "stream",
     "text": [
      "Juniors that survived = 49\n",
      "Percentage of children that survived = 0.590361445783\n"
     ]
    }
   ],
   "source": [
    "survived_juniors = titanic_df[(titanic_df.Age < 16) & (titanic_df.Survived == 1)]\n",
    "\n",
    "print (\"Juniors that survived =\", len(survived_juniors))\n",
    "print (\"Percentage of children that survived =\", len(survived_juniors)/junior_total)"
   ]
  },
  {
   "cell_type": "code",
   "execution_count": 125,
   "metadata": {},
   "outputs": [
    {
     "name": "stdout",
     "output_type": "stream",
     "text": [
      "Kids in 3rd class= 58\n",
      "Kids in 2nd class= 19\n",
      "Kids in 1st class= 6\n"
     ]
    },
    {
     "data": {
      "image/png": "[encoded data removed]",
      "text/plain": [
       "<matplotlib.figure.Figure at 0x2069d12a8d0>"
      ]
     },
     "metadata": {},
     "output_type": "display_data"
    }
   ],
   "source": [
    "kids3 = titanic_df[(titanic_df.Age  <16 ) & (titanic_df.Pclass == 3)]\n",
    "print(\"Kids in 3rd class=\", len(kids3))\n",
    "\n",
    "kids2 = titanic_df[(titanic_df.Age  <16 ) & (titanic_df.Pclass == 2)]\n",
    "print(\"Kids in 2nd class=\",len(kids2))\n",
    "\n",
    "kids1 = titanic_df[(titanic_df.Age  <16 ) & (titanic_df.Pclass == 1)]\n",
    "print(\"Kids in 1st class=\",len(kids1))\n",
    "\n",
    "labels = '3rd Class', '2nd Class', '1st Class'\n",
    "sizes = [58, 19, 6]\n",
    "explode = (0.1, 0, 0) \n",
    "\n",
    "fig1, ax1 = plt.subplots()\n",
    "ax1.pie(sizes, explode=explode, labels=labels, autopct='%1.1f%%',\n",
    "        shadow=True, startangle=90)\n",
    "ax1.axis('equal') \n",
    "\n",
    "plt.show()"
   ]
  },
  {
   "cell_type": "markdown",
   "metadata": {},
   "source": [
    "Most people know the phrase, \"Women and children first\", when talking about the sinking of the titanic. Taking a quick look at the data on children (age less than 16), we can see that 59% of children survived. This is well over the overall average of 38%, and even more impressive because most of the children were in 3rd class. As you will see below, women in 3rd class had a 50% chance of surviving."
   ]
  },
  {
   "cell_type": "code",
   "execution_count": 92,
   "metadata": {},
   "outputs": [
    {
     "name": "stdout",
     "output_type": "stream",
     "text": [
      "Older than 50 = 64\n",
      "Older than 50 and survived = 22\n",
      "Older than 50 and in 1st class = 39\n",
      "Older than 50 and survived while in 1st class = 18\n",
      "Women older than 50 = 17\n",
      "Women older than 50 and survived = 16\n",
      "Women older than 50 and in 1st class = 13\n",
      "Women older than 50 and survived in 1st class = 13\n"
     ]
    }
   ],
   "source": [
    "# How about older passengers -- how did they do?\n",
    "\n",
    "old = titanic_df[(titanic_df.Age > 50)]\n",
    "print(\"Older than 50 =\", len(old))\n",
    "\n",
    "s_old = titanic_df[(titanic_df.Age > 50) & (titanic_df.Survived == 1)] \n",
    "print (\"Older than 50 and survived =\", len(s_old))\n",
    "\n",
    "c_old = titanic_df[(titanic_df.Age > 50) & (titanic_df.Pclass ==1)]\n",
    "print (\"Older than 50 and in 1st class =\", len(c_old))\n",
    "       \n",
    "c_s_old = titanic_df[(titanic_df.Age > 50) & (titanic_df.Survived == 1) & (titanic_df.Pclass ==1)]\n",
    "print (\"Older than 50 and survived while in 1st class =\" ,len(c_s_old))\n",
    "\n",
    "old_f = titanic_df[(titanic_df.Age > 50) & (titanic_df.Sex == 'female')]\n",
    "print (\"Women older than 50 =\", len(old_f))\n",
    "\n",
    "f_s_old = titanic_df[(titanic_df.Age > 50) & (titanic_df.Survived == 1) & (titanic_df.Sex == 'female')]\n",
    "print(\"Women older than 50 and survived =\", len(f_s_old))\n",
    "\n",
    "f_c_old = titanic_df[(titanic_df.Age > 50) & (titanic_df.Pclass == 1) & (titanic_df.Sex == 'female')]\n",
    "print (\"Women older than 50 and in 1st class =\", len(f_c_old))\n",
    "                  \n",
    "f_c_s_old = titanic_df[(titanic_df.Age > 50) & (titanic_df.Survived == 1) & (titanic_df.Pclass ==1)\n",
    "&(titanic_df.Sex == 'female')]\n",
    "print(\"Women older than 50 and survived in 1st class =\", len(f_c_s_old))\n"
   ]
  },
  {
   "cell_type": "markdown",
   "metadata": {},
   "source": [
    "We can see that only 34 percent of people over the age of 50 survived, but 82 percent of older people in first class survived. What we don't know is why the older people did poorly in the other classes. Were younger people of all sorts prioritized over older? Did older people have a harder time surviving the conditions or perhaps difficulty making it to the life boats? We know 1st class status helped the older people (especially the women -- all of the surviving older women were in 1st class). 1st class status didn't seem to help the men much -- only 5/26 survived. We can conclude that old women in 1st class did very well, while old men didn't (4/47 outside of 1st survived)."
   ]
  },
  {
   "cell_type": "code",
   "execution_count": 93,
   "metadata": {},
   "outputs": [
    {
     "name": "stdout",
     "output_type": "stream",
     "text": [
      "Mothers with children that survived = 48\n",
      "Mothers with children = 64\n"
     ]
    }
   ],
   "source": [
    "# Is there is a relationship between being a mother with a child and surviving? \n",
    "\n",
    "survived_females_wchild = titanic_df[(titanic_df.Sex == 'female') & (titanic_df.Survived == 1) \n",
    "                                     &(titanic_df.Age >18) & (titanic_df.Parch > 0)]\n",
    "print (\"Mothers with children that survived =\", len(survived_females_wchild))\n",
    "\n",
    "females_wchild = titanic_df[(titanic_df.Sex == 'female') & (titanic_df.Parch > 0)&(titanic_df.Age >18)]\n",
    "print(\"Mothers with children =\", len(females_wchild))"
   ]
  },
  {
   "cell_type": "markdown",
   "metadata": {},
   "source": [
    "Above, you can that 48/64 (75 percent) women with children survived.  This is right in line with the 74 percent survival rate for women, so we can dismiss this as an important combination. Next, I'm looking at the effect that class had on survival rate:"
   ]
  },
  {
   "cell_type": "code",
   "execution_count": 94,
   "metadata": {},
   "outputs": [
    {
     "data": {
      "text/plain": [
       "Pclass\n",
       "1    216\n",
       "2    184\n",
       "3    491\n",
       "dtype: int64"
      ]
     },
     "execution_count": 94,
     "metadata": {},
     "output_type": "execute_result"
    }
   ],
   "source": [
    "titanic_df.groupby(['Pclass']).size()\n",
    "\n",
    "# Here, we are finding out how many passengers are in each class.\n",
    "# 1st class has 216.\n",
    "# 2nd class has 184.\n",
    "# 3rd class has 491."
   ]
  },
  {
   "cell_type": "code",
   "execution_count": 95,
   "metadata": {},
   "outputs": [
    {
     "data": {
      "text/plain": [
       "Survived  Pclass\n",
       "0         1          80\n",
       "          2          97\n",
       "          3         372\n",
       "1         1         136\n",
       "          2          87\n",
       "          3         119\n",
       "dtype: int64"
      ]
     },
     "execution_count": 95,
     "metadata": {},
     "output_type": "execute_result"
    }
   ],
   "source": [
    "titanic_df.groupby(['Survived','Pclass']).size()\n",
    "\n",
    "# Now we can find the percentage of people that survived from each class.\n",
    "# 1st class:  80/216 died.  136/216 survived.  Survival rate = 63%\n",
    "# 2nd class:  97/184 died.  87/184 survived.  Survival rate = 47%\n",
    "# 3rd class:  372/491 died.  119/491 survived.  Survival rate = 24%"
   ]
  },
  {
   "cell_type": "code",
   "execution_count": 96,
   "metadata": {
    "scrolled": false
   },
   "outputs": [
    {
     "data": {
      "text/plain": [
       "Pclass  Sex   \n",
       "1       female     94\n",
       "        male      122\n",
       "2       female     76\n",
       "        male      108\n",
       "3       female    144\n",
       "        male      347\n",
       "dtype: int64"
      ]
     },
     "execution_count": 96,
     "metadata": {},
     "output_type": "execute_result"
    }
   ],
   "source": [
    "titanic_df.groupby([ 'Pclass', 'Sex']).size()\n",
    "\n",
    "# Here, we can quickly see how many males and females were in each passenger class."
   ]
  },
  {
   "cell_type": "markdown",
   "metadata": {},
   "source": [
    "As expected, 1st class had the highest survival rate, at 63%. Then came 2nd class, at 47%. Last was 3rd class, at 24%. 3rd class made up a majority of passengers (491/891 = 55%), but it was also largely composed of men (347/491 = 71%)."
   ]
  },
  {
   "cell_type": "markdown",
   "metadata": {},
   "source": [
    "Class was a very important factor determining survival. It doesn't seem that there were extraneous variables influencing this statistic. 1st class was, ineed, located in the center of the ship and slightly higher (on average) than the other classes, but we know that the ship took hours to sink and that plenty of women were able to make it from 3rd class to the lifeboats.  "
   ]
  },
  {
   "cell_type": "markdown",
   "metadata": {},
   "source": [
    "By this point, we can be pretty sure that sex and class were the big factors determining one's likelihood of surviving the titanic disaster."
   ]
  },
  {
   "cell_type": "code",
   "execution_count": 101,
   "metadata": {
    "scrolled": false
   },
   "outputs": [
    {
     "name": "stdout",
     "output_type": "stream",
     "text": [
      "Survived  Pclass  Sex   \n",
      "0         1       female      3\n",
      "                  male       77\n",
      "          2       female      6\n",
      "                  male       91\n",
      "          3       female     72\n",
      "                  male      300\n",
      "1         1       female     91\n",
      "                  male       45\n",
      "          2       female     70\n",
      "                  male       17\n",
      "          3       female     72\n",
      "                  male       47\n",
      "dtype: int64\n"
     ]
    },
    {
     "data": {
      "text/plain": [
       "<matplotlib.axes._subplots.AxesSubplot at 0x2069d2fe5f8>"
      ]
     },
     "execution_count": 101,
     "metadata": {},
     "output_type": "execute_result"
    },
    {
     "data": {
      "image/png": "[encoded data removed]",
      "text/plain": [
       "<matplotlib.figure.Figure at 0x2069d15cb38>"
      ]
     },
     "metadata": {},
     "output_type": "display_data"
    }
   ],
   "source": [
    "print (titanic_df.groupby(['Survived', 'Pclass', 'Sex']).size())\n",
    "\n",
    "\n",
    "rspc = titanic_df.groupby(['Pclass', 'Sex'])['Survived'].sum().unstack()\n",
    "chart = rspc.plot.bar()\n",
    "chart.set(title = 'Survivors by Sex and Class', xlabel = 'Class', ylabel = '# of Passengers')\n",
    "chart.set_xticklabels(range(1,4), rotation = 0)\n",
    "chart\n",
    "# Finally, we are looking at the number of survivors based on sex and passenger class. \n",
    "# Some interesting stats: 97% of female 1st classers survived!\n",
    "#                         37% of male 1st classers survived.\n",
    "#                         50% of female 3rd classers survived.\n",
    "#                         14% of male 3rd classers survived.\n"
   ]
  },
  {
   "cell_type": "markdown",
   "metadata": {},
   "source": [
    "Looking at the chart above, it is easy to see all classes of females did better than all classes of men, but the results are much more drastic when you account for the fact that there were so many more males aboard. "
   ]
  },
  {
   "cell_type": "markdown",
   "metadata": {},
   "source": [
    "The only way to get a true picture of what is going on is to evaluate the data based on sex and class. First I will calculate the expected number of survivors for each class using survivorship by sex and survivorship by class\n",
    "     (Exp. by Sex),                  (Exp. by Class):\n",
    "Male 1st -- .189 x 122 = 23,       Male 1st -- .63 x 122 = 76 --     Actual = 45;\n",
    "Male 2nd -- .189 x 108 = 20.4,     Male 2nd -- .47 x 108 = 51 --    Actual = 17;\n",
    "Male 3rd -- .189 x 347 = 65.6,     Male 3rd -- .24 x 347 = 83 --    Actual = 47;\n",
    "Judging by these numbers, we can see that men did worse than expected in every category except for 1st class. Their 1st class ranking gave them a better chance of survival, but still not as good as the first class average."
   ]
  },
  {
   "cell_type": "markdown",
   "metadata": {},
   "source": [
    "Now the same analysis for women:\n",
    "Female 1st -- .742 x 94 = 70       Female 1st -- .63 x 94 = 59 --    Actual = 91\n",
    "Female 2nd -- .742 x 76 = 56       Female 2nd -- .47 x 76 = 36 --   Actual = 70\n",
    "Female 3rd -- .742 x 144 = 107     Female 3rd -- .24 x 144 = 35 --   Actual = 72\n",
    "The female data shows that women did better than expected in every category except 3rd class. 3rd class status dragged them down, but they still did better than the average in this category.\n",
    "\n"
   ]
  },
  {
   "cell_type": "markdown",
   "metadata": {},
   "source": [
    "In this analysis, I was using sex as a starting point and looking to see if sex, when combined with class, was able to skew the outcome. Assuming class and sex had an equal weighting on the effect of survivorship, the actual outcome should have been in the middle of the expected values. The only cases where class overwhelmed sex were for men in 1st class and women in 3rd class. We can see that combinations of class and sex had synergistic effects in some cases, but judging by this data, the most important factor was being a woman, in terms of surviving."
   ]
  },
  {
   "cell_type": "markdown",
   "metadata": {},
   "source": [
    "---"
   ]
  },
  {
   "cell_type": "markdown",
   "metadata": {},
   "source": [
    "Limitations:  Something to be aware of regarding this data set is that it is not complete. There were about 50% more people aboard the titanic, but this data seems to be a fairly representative sample. With this sample, we were able to make some broad conclusions, but these conclusions cannot be tested, as the titanic disaster was a one-off event. There was some data that was not used in this analysis -- namely, cabin number. We could have looked at the exact placement of cabin numbers and the layout of the ship, but most of the cabin numbers were missing and this would be very time consuming. Also, the narrower the focus, the more susceptible to extraneous variables that simply cannot be accounted for. We were able to get a very general idea of factors that likely affected survivorship."
   ]
  },
  {
   "cell_type": "markdown",
   "metadata": {},
   "source": [
    "I am concluding that sex and age were most important to survivorship. Although women overall had the best chance of surviving, most of the children were in 2nd and 3rd class and did better than women in these categories. Older people (most of which were men) had a very poor chance of surviving (9 percent if you exclude first class and women). The next factor of importance was class. Being in 1st class had a definite boost on survival rate, while being in 3rd hurt one's chances of survival.\n",
    "\n",
    "So, if you had to pick, be a woman over the age of 50 in 1st class (100% survival rate!); then be a woman in first class; then be any woman or child. Don't be a man and especially don't be an old man! Better yet -- just don't be on the Titanic!"
   ]
  }
 ],
 "metadata": {
  "celltoolbar": "Raw Cell Format",
  "kernelspec": {
   "display_name": "Python 2",
   "language": "python",
   "name": "python2"
  },
  "language_info": {
   "codemirror_mode": {
    "name": "ipython",
    "version": 2
   },
   "file_extension": ".py",
   "mimetype": "text/x-python",
   "name": "python",
   "nbconvert_exporter": "python",
   "pygments_lexer": "ipython2",
   "version": "2.7.13"
  }
 },
 "nbformat": 4,
 "nbformat_minor": 2
}
